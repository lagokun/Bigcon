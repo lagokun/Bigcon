{
 "cells": [
  {
   "cell_type": "code",
   "execution_count": 1,
   "metadata": {},
   "outputs": [],
   "source": [
    "import pandas as pd\n",
    "import seaborn as sns\n",
    "import matplotlib.pyplot as plt\n",
    "import warnings\n",
    "warnings.filterwarnings(action='ignore') \n",
    "\n",
    "from fbprophet.diagnostics import cross_validation\n",
    "from statsmodels.tsa.arima_model import ARIMA\n",
    "import statsmodels.api as sm\n",
    "from statsmodels.tsa.api import ExponentialSmoothing, SimpleExpSmoothing, Holt\n",
    "import numpy as np\n",
    "from fbprophet import Prophet"
   ]
  },
  {
   "cell_type": "code",
   "execution_count": 2,
   "metadata": {},
   "outputs": [
    {
     "data": {
      "text/html": [
       "<div>\n",
       "<style scoped>\n",
       "    .dataframe tbody tr th:only-of-type {\n",
       "        vertical-align: middle;\n",
       "    }\n",
       "\n",
       "    .dataframe tbody tr th {\n",
       "        vertical-align: top;\n",
       "    }\n",
       "\n",
       "    .dataframe thead th {\n",
       "        text-align: right;\n",
       "    }\n",
       "</style>\n",
       "<table border=\"1\" class=\"dataframe\">\n",
       "  <thead>\n",
       "    <tr style=\"text-align: right;\">\n",
       "      <th></th>\n",
       "      <th>base_date</th>\n",
       "      <th>city</th>\n",
       "      <th>emd_cd</th>\n",
       "      <th>emd_nm</th>\n",
       "      <th>em_area_cd</th>\n",
       "      <th>em_cnt</th>\n",
       "      <th>em_g</th>\n",
       "      <th>pay_amt</th>\n",
       "    </tr>\n",
       "  </thead>\n",
       "  <tbody>\n",
       "    <tr>\n",
       "      <th>0</th>\n",
       "      <td>2018-01-01</td>\n",
       "      <td>제주시</td>\n",
       "      <td>50110670</td>\n",
       "      <td>외도동</td>\n",
       "      <td>W6X062</td>\n",
       "      <td>2</td>\n",
       "      <td>15500</td>\n",
       "      <td>464</td>\n",
       "    </tr>\n",
       "    <tr>\n",
       "      <th>1</th>\n",
       "      <td>2018-01-01</td>\n",
       "      <td>제주시</td>\n",
       "      <td>50110630</td>\n",
       "      <td>아라동</td>\n",
       "      <td>W6XA97</td>\n",
       "      <td>25</td>\n",
       "      <td>59800</td>\n",
       "      <td>1787</td>\n",
       "    </tr>\n",
       "    <tr>\n",
       "      <th>2</th>\n",
       "      <td>2018-01-01</td>\n",
       "      <td>제주시</td>\n",
       "      <td>50110630</td>\n",
       "      <td>아라동</td>\n",
       "      <td>W6XA96</td>\n",
       "      <td>8</td>\n",
       "      <td>25350</td>\n",
       "      <td>758</td>\n",
       "    </tr>\n",
       "    <tr>\n",
       "      <th>3</th>\n",
       "      <td>2018-01-01</td>\n",
       "      <td>제주시</td>\n",
       "      <td>50110630</td>\n",
       "      <td>아라동</td>\n",
       "      <td>W6XA95</td>\n",
       "      <td>12</td>\n",
       "      <td>30000</td>\n",
       "      <td>898</td>\n",
       "    </tr>\n",
       "    <tr>\n",
       "      <th>4</th>\n",
       "      <td>2018-01-01</td>\n",
       "      <td>제주시</td>\n",
       "      <td>50110630</td>\n",
       "      <td>아라동</td>\n",
       "      <td>W6XA94</td>\n",
       "      <td>14</td>\n",
       "      <td>44050</td>\n",
       "      <td>1317</td>\n",
       "    </tr>\n",
       "    <tr>\n",
       "      <th>...</th>\n",
       "      <td>...</td>\n",
       "      <td>...</td>\n",
       "      <td>...</td>\n",
       "      <td>...</td>\n",
       "      <td>...</td>\n",
       "      <td>...</td>\n",
       "      <td>...</td>\n",
       "      <td>...</td>\n",
       "    </tr>\n",
       "    <tr>\n",
       "      <th>2211440</th>\n",
       "      <td>2021-06-30</td>\n",
       "      <td>제주시</td>\n",
       "      <td>50110250</td>\n",
       "      <td>한림읍</td>\n",
       "      <td>W6XEB4</td>\n",
       "      <td>12</td>\n",
       "      <td>58250</td>\n",
       "      <td>1743</td>\n",
       "    </tr>\n",
       "    <tr>\n",
       "      <th>2211441</th>\n",
       "      <td>2021-06-30</td>\n",
       "      <td>제주시</td>\n",
       "      <td>50110250</td>\n",
       "      <td>한림읍</td>\n",
       "      <td>W6XEB7</td>\n",
       "      <td>15</td>\n",
       "      <td>111000</td>\n",
       "      <td>3326</td>\n",
       "    </tr>\n",
       "    <tr>\n",
       "      <th>2211442</th>\n",
       "      <td>2021-06-30</td>\n",
       "      <td>제주시</td>\n",
       "      <td>50110250</td>\n",
       "      <td>한림읍</td>\n",
       "      <td>W6XEB8</td>\n",
       "      <td>21</td>\n",
       "      <td>48300</td>\n",
       "      <td>1444</td>\n",
       "    </tr>\n",
       "    <tr>\n",
       "      <th>2211443</th>\n",
       "      <td>2021-06-30</td>\n",
       "      <td>제주시</td>\n",
       "      <td>50110250</td>\n",
       "      <td>한림읍</td>\n",
       "      <td>W6XEA2</td>\n",
       "      <td>5</td>\n",
       "      <td>22050</td>\n",
       "      <td>661</td>\n",
       "    </tr>\n",
       "    <tr>\n",
       "      <th>2211444</th>\n",
       "      <td>2021-06-30</td>\n",
       "      <td>제주시</td>\n",
       "      <td>50110640</td>\n",
       "      <td>오라동</td>\n",
       "      <td>W6XAD5</td>\n",
       "      <td>2</td>\n",
       "      <td>2900</td>\n",
       "      <td>87</td>\n",
       "    </tr>\n",
       "  </tbody>\n",
       "</table>\n",
       "<p>2211445 rows × 8 columns</p>\n",
       "</div>"
      ],
      "text/plain": [
       "          base_date city    emd_cd emd_nm em_area_cd  em_cnt    em_g  pay_amt\n",
       "0        2018-01-01  제주시  50110670    외도동     W6X062       2   15500      464\n",
       "1        2018-01-01  제주시  50110630    아라동     W6XA97      25   59800     1787\n",
       "2        2018-01-01  제주시  50110630    아라동     W6XA96       8   25350      758\n",
       "3        2018-01-01  제주시  50110630    아라동     W6XA95      12   30000      898\n",
       "4        2018-01-01  제주시  50110630    아라동     W6XA94      14   44050     1317\n",
       "...             ...  ...       ...    ...        ...     ...     ...      ...\n",
       "2211440  2021-06-30  제주시  50110250    한림읍     W6XEB4      12   58250     1743\n",
       "2211441  2021-06-30  제주시  50110250    한림읍     W6XEB7      15  111000     3326\n",
       "2211442  2021-06-30  제주시  50110250    한림읍     W6XEB8      21   48300     1444\n",
       "2211443  2021-06-30  제주시  50110250    한림읍     W6XEA2       5   22050      661\n",
       "2211444  2021-06-30  제주시  50110640    오라동     W6XAD5       2    2900       87\n",
       "\n",
       "[2211445 rows x 8 columns]"
      ]
     },
     "execution_count": 2,
     "metadata": {},
     "output_type": "execute_result"
    }
   ],
   "source": [
    "train = pd.read_csv('01_음식물쓰레기_FOOD_WASTE_210811_update.CSV', encoding = 'cp949')\n",
    "train"
   ]
  },
  {
   "cell_type": "code",
   "execution_count": 3,
   "metadata": {},
   "outputs": [
    {
     "data": {
      "text/html": [
       "<div>\n",
       "<style scoped>\n",
       "    .dataframe tbody tr th:only-of-type {\n",
       "        vertical-align: middle;\n",
       "    }\n",
       "\n",
       "    .dataframe tbody tr th {\n",
       "        vertical-align: top;\n",
       "    }\n",
       "\n",
       "    .dataframe thead th {\n",
       "        text-align: right;\n",
       "    }\n",
       "</style>\n",
       "<table border=\"1\" class=\"dataframe\">\n",
       "  <thead>\n",
       "    <tr style=\"text-align: right;\">\n",
       "      <th></th>\n",
       "      <th>base_date</th>\n",
       "      <th>emd_nm</th>\n",
       "      <th>em_g</th>\n",
       "    </tr>\n",
       "  </thead>\n",
       "  <tbody>\n",
       "    <tr>\n",
       "      <th>0</th>\n",
       "      <td>2018-01-01</td>\n",
       "      <td>외도동</td>\n",
       "      <td>15500</td>\n",
       "    </tr>\n",
       "    <tr>\n",
       "      <th>1</th>\n",
       "      <td>2018-01-01</td>\n",
       "      <td>아라동</td>\n",
       "      <td>59800</td>\n",
       "    </tr>\n",
       "    <tr>\n",
       "      <th>2</th>\n",
       "      <td>2018-01-01</td>\n",
       "      <td>아라동</td>\n",
       "      <td>25350</td>\n",
       "    </tr>\n",
       "    <tr>\n",
       "      <th>3</th>\n",
       "      <td>2018-01-01</td>\n",
       "      <td>아라동</td>\n",
       "      <td>30000</td>\n",
       "    </tr>\n",
       "    <tr>\n",
       "      <th>4</th>\n",
       "      <td>2018-01-01</td>\n",
       "      <td>아라동</td>\n",
       "      <td>44050</td>\n",
       "    </tr>\n",
       "    <tr>\n",
       "      <th>...</th>\n",
       "      <td>...</td>\n",
       "      <td>...</td>\n",
       "      <td>...</td>\n",
       "    </tr>\n",
       "    <tr>\n",
       "      <th>2211440</th>\n",
       "      <td>2021-06-30</td>\n",
       "      <td>한림읍</td>\n",
       "      <td>58250</td>\n",
       "    </tr>\n",
       "    <tr>\n",
       "      <th>2211441</th>\n",
       "      <td>2021-06-30</td>\n",
       "      <td>한림읍</td>\n",
       "      <td>111000</td>\n",
       "    </tr>\n",
       "    <tr>\n",
       "      <th>2211442</th>\n",
       "      <td>2021-06-30</td>\n",
       "      <td>한림읍</td>\n",
       "      <td>48300</td>\n",
       "    </tr>\n",
       "    <tr>\n",
       "      <th>2211443</th>\n",
       "      <td>2021-06-30</td>\n",
       "      <td>한림읍</td>\n",
       "      <td>22050</td>\n",
       "    </tr>\n",
       "    <tr>\n",
       "      <th>2211444</th>\n",
       "      <td>2021-06-30</td>\n",
       "      <td>오라동</td>\n",
       "      <td>2900</td>\n",
       "    </tr>\n",
       "  </tbody>\n",
       "</table>\n",
       "<p>2211445 rows × 3 columns</p>\n",
       "</div>"
      ],
      "text/plain": [
       "          base_date emd_nm    em_g\n",
       "0        2018-01-01    외도동   15500\n",
       "1        2018-01-01    아라동   59800\n",
       "2        2018-01-01    아라동   25350\n",
       "3        2018-01-01    아라동   30000\n",
       "4        2018-01-01    아라동   44050\n",
       "...             ...    ...     ...\n",
       "2211440  2021-06-30    한림읍   58250\n",
       "2211441  2021-06-30    한림읍  111000\n",
       "2211442  2021-06-30    한림읍   48300\n",
       "2211443  2021-06-30    한림읍   22050\n",
       "2211444  2021-06-30    오라동    2900\n",
       "\n",
       "[2211445 rows x 3 columns]"
      ]
     },
     "execution_count": 3,
     "metadata": {},
     "output_type": "execute_result"
    }
   ],
   "source": [
    "train1 = train.drop(columns=['city','emd_cd','em_area_cd','em_cnt','pay_amt'])\n",
    "train1"
   ]
  },
  {
   "cell_type": "code",
   "execution_count": 4,
   "metadata": {},
   "outputs": [],
   "source": [
    "train1['base_date'] = pd.to_datetime(train1['base_date'])\n",
    "train1['month'] = train1['base_date'].dt.month\n",
    "train1['year'] = train1['base_date'].dt.year\n",
    "train1['day'] = train1['base_date'].dt.day"
   ]
  },
  {
   "cell_type": "code",
   "execution_count": 5,
   "metadata": {},
   "outputs": [],
   "source": [
    "train2 = train1.groupby(['year','month','day','emd_nm']).agg(sum).unstack()"
   ]
  },
  {
   "cell_type": "code",
   "execution_count": 6,
   "metadata": {},
   "outputs": [],
   "source": [
    "train3 = train2.reset_index()"
   ]
  },
  {
   "cell_type": "code",
   "execution_count": 7,
   "metadata": {},
   "outputs": [],
   "source": [
    "train3.columns = ['year',\t'month',\t'day',\n",
    "                  '건입동',\t'구좌읍',\t'남원읍',\t'노형동',\t'대륜동',\t'대정읍',\t'대천동',\t'도두동',\t'동홍동',\t'봉개동',\t'삼도1동',\t'삼도2동',\t'삼양동',\t'서홍동',\t'성산읍',\t'송산동',\t\n",
    "                  '아라동',\t'안덕면',\t'알수없음',\t'애월읍',\t'연동',\t'영천동',\t'예래동',\t'오라동',\t\n",
    "                  '외도동',\t'용담1동',\t'용담2동',\t'이도1동',\t'이도2동',\t'이호동',\t'일도1동',\t'일도2동',\t'정방동',\t'조천읍', '중문동',\t'중앙동',\t'천지동',\t'표선면',\t'한경면',\t'한림읍',\t'화북동',\t'효돈동']"
   ]
  },
  {
   "cell_type": "code",
   "execution_count": 8,
   "metadata": {},
   "outputs": [],
   "source": [
    "train3['Date'] = train3['year'].astype(str)+ '-' + train3['month'].astype(str)+ '-' + train3['day'].astype(str)"
   ]
  },
  {
   "cell_type": "code",
   "execution_count": 9,
   "metadata": {},
   "outputs": [],
   "source": [
    "train3['Date'] = pd.to_datetime(train3['Date'])"
   ]
  },
  {
   "cell_type": "code",
   "execution_count": 10,
   "metadata": {},
   "outputs": [],
   "source": [
    "train4 = train3.drop(columns=['year','month','day'])"
   ]
  },
  {
   "cell_type": "code",
   "execution_count": 11,
   "metadata": {},
   "outputs": [],
   "source": [
    "p = Prophet()"
   ]
  },
  {
   "cell_type": "code",
   "execution_count": 12,
   "metadata": {},
   "outputs": [],
   "source": [
    "sub = pd.DataFrame()\n",
    "sub['DateTime'] = pd.date_range('2021-07-01','2021-08-31')"
   ]
  },
  {
   "cell_type": "code",
   "execution_count": 13,
   "metadata": {},
   "outputs": [
    {
     "name": "stderr",
     "output_type": "stream",
     "text": [
      "INFO:fbprophet:Disabling daily seasonality. Run prophet with daily_seasonality=True to override this.\n",
      "INFO:fbprophet:Disabling yearly seasonality. Run prophet with yearly_seasonality=True to override this.\n",
      "INFO:fbprophet:Disabling daily seasonality. Run prophet with daily_seasonality=True to override this.\n",
      "INFO:fbprophet:Disabling daily seasonality. Run prophet with daily_seasonality=True to override this.\n",
      "INFO:fbprophet:Disabling daily seasonality. Run prophet with daily_seasonality=True to override this.\n",
      "INFO:fbprophet:Disabling daily seasonality. Run prophet with daily_seasonality=True to override this.\n",
      "INFO:fbprophet:Disabling daily seasonality. Run prophet with daily_seasonality=True to override this.\n",
      "INFO:fbprophet:Disabling daily seasonality. Run prophet with daily_seasonality=True to override this.\n",
      "INFO:fbprophet:Disabling daily seasonality. Run prophet with daily_seasonality=True to override this.\n",
      "INFO:fbprophet:Disabling daily seasonality. Run prophet with daily_seasonality=True to override this.\n",
      "INFO:fbprophet:Disabling daily seasonality. Run prophet with daily_seasonality=True to override this.\n",
      "INFO:fbprophet:Disabling daily seasonality. Run prophet with daily_seasonality=True to override this.\n",
      "INFO:fbprophet:Disabling daily seasonality. Run prophet with daily_seasonality=True to override this.\n",
      "INFO:fbprophet:Disabling daily seasonality. Run prophet with daily_seasonality=True to override this.\n",
      "INFO:fbprophet:Disabling daily seasonality. Run prophet with daily_seasonality=True to override this.\n",
      "INFO:fbprophet:Disabling daily seasonality. Run prophet with daily_seasonality=True to override this.\n",
      "INFO:fbprophet:Disabling daily seasonality. Run prophet with daily_seasonality=True to override this.\n",
      "INFO:fbprophet:Disabling daily seasonality. Run prophet with daily_seasonality=True to override this.\n",
      "INFO:fbprophet:Disabling daily seasonality. Run prophet with daily_seasonality=True to override this.\n",
      "INFO:fbprophet:Disabling daily seasonality. Run prophet with daily_seasonality=True to override this.\n",
      "INFO:fbprophet:Disabling daily seasonality. Run prophet with daily_seasonality=True to override this.\n",
      "INFO:fbprophet:Disabling daily seasonality. Run prophet with daily_seasonality=True to override this.\n",
      "INFO:fbprophet:Disabling daily seasonality. Run prophet with daily_seasonality=True to override this.\n",
      "INFO:fbprophet:Disabling daily seasonality. Run prophet with daily_seasonality=True to override this.\n",
      "INFO:fbprophet:Disabling daily seasonality. Run prophet with daily_seasonality=True to override this.\n",
      "INFO:fbprophet:Disabling daily seasonality. Run prophet with daily_seasonality=True to override this.\n",
      "INFO:fbprophet:Disabling daily seasonality. Run prophet with daily_seasonality=True to override this.\n",
      "INFO:fbprophet:Disabling daily seasonality. Run prophet with daily_seasonality=True to override this.\n",
      "INFO:fbprophet:Disabling daily seasonality. Run prophet with daily_seasonality=True to override this.\n",
      "INFO:fbprophet:Disabling daily seasonality. Run prophet with daily_seasonality=True to override this.\n",
      "INFO:fbprophet:Disabling daily seasonality. Run prophet with daily_seasonality=True to override this.\n",
      "INFO:fbprophet:Disabling daily seasonality. Run prophet with daily_seasonality=True to override this.\n",
      "INFO:fbprophet:Disabling daily seasonality. Run prophet with daily_seasonality=True to override this.\n",
      "INFO:fbprophet:Disabling daily seasonality. Run prophet with daily_seasonality=True to override this.\n",
      "INFO:fbprophet:Disabling yearly seasonality. Run prophet with yearly_seasonality=True to override this.\n",
      "INFO:fbprophet:Disabling daily seasonality. Run prophet with daily_seasonality=True to override this.\n",
      "INFO:fbprophet:Disabling daily seasonality. Run prophet with daily_seasonality=True to override this.\n",
      "INFO:fbprophet:Disabling daily seasonality. Run prophet with daily_seasonality=True to override this.\n",
      "INFO:fbprophet:Disabling daily seasonality. Run prophet with daily_seasonality=True to override this.\n",
      "INFO:fbprophet:Disabling daily seasonality. Run prophet with daily_seasonality=True to override this.\n",
      "INFO:fbprophet:Disabling yearly seasonality. Run prophet with yearly_seasonality=True to override this.\n",
      "INFO:fbprophet:Disabling daily seasonality. Run prophet with daily_seasonality=True to override this.\n",
      "INFO:fbprophet:Disabling yearly seasonality. Run prophet with yearly_seasonality=True to override this.\n",
      "INFO:fbprophet:Disabling daily seasonality. Run prophet with daily_seasonality=True to override this.\n",
      "INFO:fbprophet:Disabling daily seasonality. Run prophet with daily_seasonality=True to override this.\n",
      "INFO:fbprophet:Disabling daily seasonality. Run prophet with daily_seasonality=True to override this.\n"
     ]
    }
   ],
   "source": [
    "for col in train4.columns[:-1].tolist():\n",
    "  train5 = train4[['Date', col]]\n",
    "  train5.columns = ['ds','y']\n",
    "\n",
    "  model = Prophet()\n",
    "  model.fit(train5)\n",
    "\n",
    "  future = model.make_future_dataframe(periods =365)\n",
    "  fcst = model.predict(future)\n",
    "#   print(f'{col} Forecasting....')\n",
    "\n",
    "  result = fcst.iloc[1276:]\n",
    "  \n",
    "  result.rename(columns={'ds':'DateTime'}, inplace = True)\n",
    "  \n",
    "  # display(result)\n",
    "  temp = result.groupby('DateTime')['yhat'].sum().reset_index(name = col)\n",
    "\n",
    "  sub = pd.merge(sub,temp, on = 'DateTime', how = 'left')"
   ]
  },
  {
   "cell_type": "code",
   "execution_count": 14,
   "metadata": {},
   "outputs": [],
   "source": [
    "sub['year'] = sub['DateTime'].dt.year\n",
    "sub['month'] = sub['DateTime'].dt.month"
   ]
  },
  {
   "cell_type": "code",
   "execution_count": 15,
   "metadata": {},
   "outputs": [],
   "source": [
    "sub_prophet = sub.groupby(['year','month']).agg(sum).reset_index()"
   ]
  },
  {
   "cell_type": "code",
   "execution_count": 16,
   "metadata": {},
   "outputs": [],
   "source": [
    "sub2 = pd.DataFrame()\n",
    "sub2['DateTime'] = pd.date_range('2021-07-01','2021-08-31')"
   ]
  },
  {
   "cell_type": "code",
   "execution_count": 17,
   "metadata": {},
   "outputs": [],
   "source": [
    "df = train4[['Date','건입동']]\n",
    "df.columns = ['ds','y']"
   ]
  },
  {
   "cell_type": "code",
   "execution_count": 18,
   "metadata": {},
   "outputs": [
    {
     "name": "stderr",
     "output_type": "stream",
     "text": [
      "INFO:fbprophet:Disabling daily seasonality. Run prophet with daily_seasonality=True to override this.\n"
     ]
    },
    {
     "data": {
      "text/plain": [
       "<fbprophet.forecaster.Prophet at 0x2a6cc88bd00>"
      ]
     },
     "execution_count": 18,
     "metadata": {},
     "output_type": "execute_result"
    }
   ],
   "source": [
    "model = Prophet()\n",
    "model.fit(df)"
   ]
  },
  {
   "cell_type": "code",
   "execution_count": 19,
   "metadata": {},
   "outputs": [],
   "source": [
    "future = model.make_future_dataframe(periods = 62, freq = 'D')\n",
    "fcst = model.predict(future)\n",
    "pred_df = fcst.iloc[1277:]"
   ]
  },
  {
   "cell_type": "code",
   "execution_count": 20,
   "metadata": {},
   "outputs": [],
   "source": [
    "predict_ls = []\n",
    "for col in train4.columns[:-1]:\n",
    "  fit = sm.tsa.statespace.SARIMAX(train4[col], order = (1,1,1), seasonal_order=(1,1,1,12)).fit()\n",
    "  predict = fit.predict(start = 1276, end = 1276+61, dynamic = True).tolist()\n",
    "  predict_ls.append(predict)\n",
    "#   print(f'{col} Forecasting....')\n",
    "\n",
    "  temp = pd.DataFrame()\n",
    "  temp['DateTime'] = pred_df['ds']\n",
    "  temp.index = range(len(temp))\n",
    "\n",
    "  temp[col] = predict\n",
    "  temp2 = temp.groupby('DateTime')[col].sum().reset_index(name = col)\n",
    "\n",
    "  sub2 = pd.merge(sub2, temp2, on='DateTime', how = 'left')"
   ]
  },
  {
   "cell_type": "code",
   "execution_count": 21,
   "metadata": {},
   "outputs": [],
   "source": [
    "sub2['year'] = sub2['DateTime'].dt.year\n",
    "sub2['month'] = sub2['DateTime'].dt.month"
   ]
  },
  {
   "cell_type": "code",
   "execution_count": 22,
   "metadata": {},
   "outputs": [],
   "source": [
    "sub_arima = sub2.groupby(['year','month']).agg(sum).reset_index()"
   ]
  },
  {
   "cell_type": "code",
   "execution_count": 23,
   "metadata": {},
   "outputs": [],
   "source": [
    "sub_pro_ari = sub_prophet.iloc[:,2:] *0.5 + sub_arima.iloc[:,2:]*0.5"
   ]
  },
  {
   "cell_type": "code",
   "execution_count": 26,
   "metadata": {},
   "outputs": [],
   "source": [
    "a = sub_pro_ari.apply(lambda x : round(x,1), axis = 1)"
   ]
  },
  {
   "cell_type": "code",
   "execution_count": 27,
   "metadata": {},
   "outputs": [],
   "source": [
    "a.to_csv('final_sub.csv', index = False)"
   ]
  },
  {
   "cell_type": "code",
   "execution_count": null,
   "metadata": {},
   "outputs": [],
   "source": []
  }
 ],
 "metadata": {
  "kernelspec": {
   "display_name": "Python 3",
   "language": "python",
   "name": "python3"
  },
  "language_info": {
   "codemirror_mode": {
    "name": "ipython",
    "version": 3
   },
   "file_extension": ".py",
   "mimetype": "text/x-python",
   "name": "python",
   "nbconvert_exporter": "python",
   "pygments_lexer": "ipython3",
   "version": "3.8.7"
  }
 },
 "nbformat": 4,
 "nbformat_minor": 4
}
